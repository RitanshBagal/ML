{
 "cells": [
  {
   "cell_type": "code",
   "execution_count": 1,
   "id": "41a8ad84",
   "metadata": {},
   "outputs": [],
   "source": [
    "import numpy as np\n",
    "import pandas as pd\n",
    "from sklearn import neighbors, metrics\n",
    "from sklearn.model_selection import train_test_split\n",
    "from sklearn.preprocessing import LabelEncoder"
   ]
  },
  {
   "cell_type": "code",
   "execution_count": 2,
   "id": "c84be43a",
   "metadata": {},
   "outputs": [],
   "source": [
    "data = pd.read_csv('car.data')"
   ]
  },
  {
   "cell_type": "code",
   "execution_count": 3,
   "id": "b550dc24",
   "metadata": {},
   "outputs": [
    {
     "name": "stdout",
     "output_type": "stream",
     "text": [
      "[['vhigh' 'vhigh' 'low']\n",
      " ['vhigh' 'vhigh' 'med']\n",
      " ['vhigh' 'vhigh' 'high']\n",
      " ...\n",
      " ['low' 'low' 'low']\n",
      " ['low' 'low' 'med']\n",
      " ['low' 'low' 'high']]       class\n",
      "0     unacc\n",
      "1     unacc\n",
      "2     unacc\n",
      "3     unacc\n",
      "4     unacc\n",
      "...     ...\n",
      "1723   good\n",
      "1724  vgood\n",
      "1725  unacc\n",
      "1726   good\n",
      "1727  vgood\n",
      "\n",
      "[1728 rows x 1 columns]\n"
     ]
    }
   ],
   "source": [
    "X = data[['buying','maint','safety']].values\n",
    "y = data[['class']]\n",
    "print(X,y)\n",
    "# converting the data\n",
    "#X\n",
    "Le = LabelEncoder()\n",
    "for i in range(len(X[0])):\n",
    "    X[:, i] = Le.fit_transform(X[:, i])\n"
   ]
  },
  {
   "cell_type": "code",
   "execution_count": 4,
   "id": "c3ac450a",
   "metadata": {},
   "outputs": [
    {
     "name": "stderr",
     "output_type": "stream",
     "text": [
      "C:\\Users\\Ritansh\\AppData\\Local\\Temp\\ipykernel_12560\\3956958503.py:8: SettingWithCopyWarning: \n",
      "A value is trying to be set on a copy of a slice from a DataFrame.\n",
      "Try using .loc[row_indexer,col_indexer] = value instead\n",
      "\n",
      "See the caveats in the documentation: https://pandas.pydata.org/pandas-docs/stable/user_guide/indexing.html#returning-a-view-versus-a-copy\n",
      "  y['class']= y['class'].map(label_mapping)\n"
     ]
    }
   ],
   "source": [
    "#y\n",
    "label_mapping = {\n",
    "    'unacc':0,\n",
    "    'acc':1,\n",
    "    'good':2,\n",
    "    'vgood':3\n",
    "}\n",
    "y['class']= y['class'].map(label_mapping)\n",
    "y = np.array(y)"
   ]
  },
  {
   "cell_type": "markdown",
   "id": "5df280b1",
   "metadata": {},
   "source": [
    "##### create model"
   ]
  },
  {
   "cell_type": "code",
   "execution_count": 5,
   "id": "38c63c18",
   "metadata": {},
   "outputs": [
    {
     "name": "stdout",
     "output_type": "stream",
     "text": [
      "predictions:  [0 1 0 0 0 0 0 0 0 0 0 0 0 0 0 0 0 0 0 0 1 2 0 0 0 1 0 0 0 0 1 1 0 1 0 0 0\n",
      " 0 0 0 0 0 0 0 0 1 1 0 3 0 2 0 1 0 0 0 1 3 0 1 1 0 0 2 0 0 0 0 1 0 0 0 0 0\n",
      " 0 0 0 1 0 0 0 0 0 0 2 0 0 0 0 0 1 0 0 2 0 0 0 0 1 0 0 0 0 1 0 0 1 0 0 0 2\n",
      " 1 0 0 0 0 0 0 0 1 0 0 0 0 1 1 0 3 1 0 0 3 1 2 0 0 0 0 0 0 0 0 0 0 0 0 0 0\n",
      " 0 1 0 1 0 1 1 0 0 0 0 1 0 1 1 0 0 0 0 0 0 0 0 0 1 0 1 0 0 1 0 0 0 0 0 0 0\n",
      " 0 0 0 0 0 0 0 0 2 0 2 0 0 2 0 0 1 0 0 0 1 0 0 0 0 2 0 0 0 0 1 0 1 0 0 0 0\n",
      " 0 0 0 0 0 0 0 1 0 0 1 0 0 0 1 0 0 0 0 0 3 1 0 1 1 1 0 1 0 0 0 0 0 0 0 0 0\n",
      " 0 0 0 0 0 0 0 0 0 0 0 0 0 1 0 0 1 1 0 0 0 0 0 0 0 1 0 0 0 0 0 0 0 0 1 0 1\n",
      " 0 0 0 1 0 0 0 2 0 0 0 1 1 2 0 0 0 1 0 0 0 1 0 0 1 0 0 0 0 0 0 3 0 0 2 1 0\n",
      " 2 1 0 0 0 1 0 1 0 0 0 1 0]\n",
      "accuracy:  0.7543352601156069\n",
      "actual value:  [0]\n",
      "predicted value:  0\n"
     ]
    },
    {
     "name": "stderr",
     "output_type": "stream",
     "text": [
      "C:\\Users\\Ritansh\\anaconda3\\lib\\site-packages\\sklearn\\neighbors\\_classification.py:198: DataConversionWarning: A column-vector y was passed when a 1d array was expected. Please change the shape of y to (n_samples,), for example using ravel().\n",
      "  return self._fit(X, y)\n",
      "C:\\Users\\Ritansh\\anaconda3\\lib\\site-packages\\sklearn\\neighbors\\_classification.py:228: FutureWarning: Unlike other reduction functions (e.g. `skew`, `kurtosis`), the default behavior of `mode` typically preserves the axis it acts along. In SciPy 1.11.0, this behavior will change: the default value of `keepdims` will become False, the `axis` over which the statistic is taken will be eliminated, and the value None will no longer be accepted. Set `keepdims` to True or False to avoid this warning.\n",
      "  mode, _ = stats.mode(_y[neigh_ind, k], axis=1)\n",
      "C:\\Users\\Ritansh\\anaconda3\\lib\\site-packages\\sklearn\\neighbors\\_classification.py:228: FutureWarning: Unlike other reduction functions (e.g. `skew`, `kurtosis`), the default behavior of `mode` typically preserves the axis it acts along. In SciPy 1.11.0, this behavior will change: the default value of `keepdims` will become False, the `axis` over which the statistic is taken will be eliminated, and the value None will no longer be accepted. Set `keepdims` to True or False to avoid this warning.\n",
      "  mode, _ = stats.mode(_y[neigh_ind, k], axis=1)\n"
     ]
    }
   ],
   "source": [
    "knn = neighbors.KNeighborsClassifier(n_neighbors = 25, weights = 'uniform')\n",
    "X_train, X_test, y_train, y_test = train_test_split(X,y,test_size=0.2)\n",
    "knn.fit(X_train,y_train)\n",
    "prediction = knn.predict(X_test)\n",
    "accuracy = metrics.accuracy_score(y_test, prediction)\n",
    "print(\"predictions: \",prediction)\n",
    "print(\"accuracy: \",accuracy)\n",
    "\n",
    "print(\"actual value: \",y[20])\n",
    "print(\"predicted value: \",knn.predict(X)[20])"
   ]
  },
  {
   "cell_type": "code",
   "execution_count": null,
   "id": "ef55e6dd",
   "metadata": {},
   "outputs": [],
   "source": []
  },
  {
   "cell_type": "code",
   "execution_count": null,
   "id": "d83bfe92",
   "metadata": {},
   "outputs": [],
   "source": []
  },
  {
   "cell_type": "code",
   "execution_count": null,
   "id": "3b6beadb",
   "metadata": {},
   "outputs": [],
   "source": []
  }
 ],
 "metadata": {
  "kernelspec": {
   "display_name": "Python 3 (ipykernel)",
   "language": "python",
   "name": "python3"
  },
  "language_info": {
   "codemirror_mode": {
    "name": "ipython",
    "version": 3
   },
   "file_extension": ".py",
   "mimetype": "text/x-python",
   "name": "python",
   "nbconvert_exporter": "python",
   "pygments_lexer": "ipython3",
   "version": "3.9.13"
  }
 },
 "nbformat": 4,
 "nbformat_minor": 5
}
